{
 "cells": [
  {
   "cell_type": "code",
   "execution_count": 56,
   "metadata": {},
   "outputs": [],
   "source": [
    "import numpy as np\n",
    "from scipy.sparse import rand as sprandn\n",
    "from scipy.linalg import sqrtm\n",
    "\n",
    "np.random.seed(123)\n",
    "\n",
    "n = 8\n",
    "A = sprandn(n, n, 0.2).todense()\n",
    "A = 0.95*A/np.max(np.abs(np.linalg.eigvals(A))) # make A stable.\n",
    "A = np.asmatrix(A)\n",
    "\n",
    "m = 4\n",
    "B = np.asmatrix(sprandn(n, m, 0.3).todense())\n",
    "\n",
    "T = 100\n",
    "W = np.asmatrix(np.eye(n))\n",
    "Whalf = np.asmatrix(sqrtm(W))\n",
    "\n",
    "us = np.asmatrix(10*np.random.randn(m, T-1)) #input.\n",
    "ws = np.dot(Whalf, np.asmatrix(np.random.randn(n, T))) #noise process.\n",
    "\n",
    "xs = np.asmatrix(np.zeros((n, T)))\n",
    "xs[:, 0] = 50*np.random.randn(n, 1) #initial x.\n",
    "\n",
    "# Simulate the system.\n",
    "for t in range(T-1):\n",
    "    xs[:, t+1] = np.dot(A, xs[:, t]) + ws[:, t] + np.dot(B, us[:, t])"
   ]
  },
  {
   "attachments": {},
   "cell_type": "markdown",
   "metadata": {},
   "source": [
    "### Non-vectorized solution"
   ]
  },
  {
   "cell_type": "code",
   "execution_count": 59,
   "metadata": {},
   "outputs": [
    {
     "name": "stdout",
     "output_type": "stream",
     "text": [
      "status: optimal\n"
     ]
    }
   ],
   "source": [
    "import cvxpy as cp\n",
    "\n",
    "A_hat = cp.Variable((n, n))\n",
    "B_hat = cp.Variable((n, m))\n",
    "\n",
    "# Define the objective function.\n",
    "obj = cp.Minimize(cp.norm1(cp.vec(A_hat)) + cp.norm1(cp.vec(B_hat))) \n",
    "\n",
    "upper_bound = n*(T-1) + 2*np.sqrt(2*n*(T-1))\n",
    "\n",
    "constraints = [\n",
    "    cp.sum([cp.sum_squares(np.linalg.inv(Whalf)@(xs[:, t+1] - A_hat@xs[:, t] - B_hat@us[:, t])) for t in range(0, T-1)]) <= upper_bound\n",
    "]\n",
    "\n",
    "prob = cp.Problem(obj, constraints)\n",
    "prob.solve()\n",
    "print(\"status:\", prob.status)\n",
    "\n",
    "A_hat = A_hat.value\n",
    "B_hat = B_hat.value\n",
    "\n",
    "A_hat = np.round(A_hat, 2)\n",
    "B_hat = np.round(B_hat, 2)\n",
    "\n",
    "A_hat[A_hat <= 0.01] = 0\n",
    "B_hat[B_hat <= 0.01] = 0"
   ]
  },
  {
   "cell_type": "code",
   "execution_count": 60,
   "metadata": {},
   "outputs": [
    {
     "name": "stdout",
     "output_type": "stream",
     "text": [
      "A_hat:\n",
      " [[0.   0.   0.   0.7  0.   0.89 0.   0.  ]\n",
      " [0.   0.   0.   0.   0.   0.   0.   0.  ]\n",
      " [0.   0.   0.82 0.   0.   0.   0.   0.  ]\n",
      " [0.   0.   0.   0.   0.   0.5  0.22 0.  ]\n",
      " [0.   0.   0.   0.   0.   0.3  0.   0.  ]\n",
      " [0.   0.   0.   0.   0.   0.03 0.63 0.  ]\n",
      " [0.   0.   0.   0.   0.   0.   0.   0.  ]\n",
      " [0.   0.31 0.44 0.2  0.37 0.   0.   0.5 ]]\n",
      "True A:\n",
      " [[0.   0.   0.   0.75 0.   0.87 0.   0.  ]\n",
      " [0.   0.   0.   0.   0.   0.   0.   0.  ]\n",
      " [0.   0.   0.95 0.   0.   0.   0.   0.  ]\n",
      " [0.   0.   0.   0.01 0.   0.47 0.54 0.  ]\n",
      " [0.   0.   0.   0.   0.   0.31 0.   0.  ]\n",
      " [0.   0.   0.   0.   0.   0.   0.82 0.  ]\n",
      " [0.   0.   0.   0.   0.   0.   0.   0.  ]\n",
      " [0.   0.37 0.53 0.25 0.29 0.   0.   0.48]]\n"
     ]
    }
   ],
   "source": [
    "print(\"A_hat:\\n\", np.round(A_hat, 2))\n",
    "print(\"True A:\\n\", np.round(A, 2))"
   ]
  },
  {
   "cell_type": "code",
   "execution_count": 61,
   "metadata": {},
   "outputs": [
    {
     "name": "stdout",
     "output_type": "stream",
     "text": [
      "B_hat:\n",
      " [[0.38 0.38 0.32 0.  ]\n",
      " [0.   0.   0.   0.  ]\n",
      " [0.   0.   0.   0.  ]\n",
      " [0.   0.   0.   0.49]\n",
      " [0.   0.   0.   0.  ]\n",
      " [0.23 0.   0.84 0.91]\n",
      " [0.   0.   0.2  0.  ]\n",
      " [0.   0.56 0.   0.7 ]]\n",
      "True B:\n",
      " [[0.38 0.39 0.36 0.  ]\n",
      " [0.   0.   0.   0.  ]\n",
      " [0.   0.   0.   0.  ]\n",
      " [0.   0.   0.   0.51]\n",
      " [0.   0.   0.   0.  ]\n",
      " [0.23 0.   0.85 0.91]\n",
      " [0.   0.   0.22 0.  ]\n",
      " [0.   0.55 0.   0.71]]\n"
     ]
    }
   ],
   "source": [
    "print(\"B_hat:\\n\", np.round(B_hat, 2))\n",
    "print(\"True B:\\n\", np.round(B, 2))"
   ]
  },
  {
   "attachments": {},
   "cell_type": "markdown",
   "metadata": {},
   "source": [
    "### Vectorized solution"
   ]
  },
  {
   "cell_type": "code",
   "execution_count": 74,
   "metadata": {},
   "outputs": [
    {
     "name": "stdout",
     "output_type": "stream",
     "text": [
      "status: optimal\n"
     ]
    }
   ],
   "source": [
    "import cvxpy as cp\n",
    "\n",
    "A_hat = cp.Variable((n, n))\n",
    "B_hat = cp.Variable((n, m))\n",
    "\n",
    "# Define the objective function.\n",
    "obj = cp.Minimize(cp.norm1(cp.vec(A_hat)) + cp.norm1(cp.vec(B_hat))) \n",
    "\n",
    "upper_bound = n*(T-1) + 2*np.sqrt(2*n*(T-1))\n",
    "\n",
    "constraints = [\n",
    "    cp.square(cp.norm(np.linalg.inv(Whalf) @ (xs[:, 1:T] - A_hat @ xs[:, 0:T-1] - B_hat @ us), 'fro')) <= upper_bound\n",
    "]\n",
    "\n",
    "prob = cp.Problem(obj, constraints)\n",
    "prob.solve()\n",
    "print(\"status:\", prob.status)\n",
    "\n",
    "A_hat = A_hat.value\n",
    "B_hat = B_hat.value\n",
    "\n",
    "A_hat = np.round(A_hat, 2)\n",
    "B_hat = np.round(B_hat, 2)\n",
    "\n",
    "A_hat[A_hat <= 0.01] = 0\n",
    "B_hat[B_hat <= 0.01] = 0"
   ]
  },
  {
   "cell_type": "code",
   "execution_count": 75,
   "metadata": {},
   "outputs": [
    {
     "name": "stdout",
     "output_type": "stream",
     "text": [
      "A_hat:\n",
      " [[0.   0.   0.   0.7  0.   0.89 0.   0.  ]\n",
      " [0.   0.   0.   0.   0.   0.   0.   0.  ]\n",
      " [0.   0.   0.82 0.   0.   0.   0.   0.  ]\n",
      " [0.   0.   0.   0.   0.   0.5  0.22 0.  ]\n",
      " [0.   0.   0.   0.   0.   0.3  0.   0.  ]\n",
      " [0.   0.   0.   0.   0.   0.03 0.63 0.  ]\n",
      " [0.   0.   0.   0.   0.   0.   0.   0.  ]\n",
      " [0.   0.31 0.44 0.2  0.37 0.   0.   0.5 ]]\n",
      "True A:\n",
      " [[0.   0.   0.   0.75 0.   0.87 0.   0.  ]\n",
      " [0.   0.   0.   0.   0.   0.   0.   0.  ]\n",
      " [0.   0.   0.95 0.   0.   0.   0.   0.  ]\n",
      " [0.   0.   0.   0.01 0.   0.47 0.54 0.  ]\n",
      " [0.   0.   0.   0.   0.   0.31 0.   0.  ]\n",
      " [0.   0.   0.   0.   0.   0.   0.82 0.  ]\n",
      " [0.   0.   0.   0.   0.   0.   0.   0.  ]\n",
      " [0.   0.37 0.53 0.25 0.29 0.   0.   0.48]]\n"
     ]
    }
   ],
   "source": [
    "print(\"A_hat:\\n\", np.round(A_hat, 2))\n",
    "print(\"True A:\\n\", np.round(A, 2))"
   ]
  },
  {
   "cell_type": "code",
   "execution_count": 76,
   "metadata": {},
   "outputs": [
    {
     "name": "stdout",
     "output_type": "stream",
     "text": [
      "B_hat:\n",
      " [[0.38 0.38 0.32 0.  ]\n",
      " [0.   0.   0.   0.  ]\n",
      " [0.   0.   0.   0.  ]\n",
      " [0.   0.   0.   0.49]\n",
      " [0.   0.   0.   0.  ]\n",
      " [0.23 0.   0.84 0.91]\n",
      " [0.   0.   0.2  0.  ]\n",
      " [0.   0.56 0.   0.7 ]]\n",
      "True B:\n",
      " [[0.38 0.39 0.36 0.  ]\n",
      " [0.   0.   0.   0.  ]\n",
      " [0.   0.   0.   0.  ]\n",
      " [0.   0.   0.   0.51]\n",
      " [0.   0.   0.   0.  ]\n",
      " [0.23 0.   0.85 0.91]\n",
      " [0.   0.   0.22 0.  ]\n",
      " [0.   0.55 0.   0.71]]\n"
     ]
    }
   ],
   "source": [
    "print(\"B_hat:\\n\", np.round(B_hat, 2))\n",
    "print(\"True B:\\n\", np.round(B, 2))"
   ]
  }
 ],
 "metadata": {
  "kernelspec": {
   "display_name": "Python 3",
   "language": "python",
   "name": "python3"
  },
  "language_info": {
   "codemirror_mode": {
    "name": "ipython",
    "version": 3
   },
   "file_extension": ".py",
   "mimetype": "text/x-python",
   "name": "python",
   "nbconvert_exporter": "python",
   "pygments_lexer": "ipython3",
   "version": "3.10.9"
  },
  "orig_nbformat": 4
 },
 "nbformat": 4,
 "nbformat_minor": 2
}
