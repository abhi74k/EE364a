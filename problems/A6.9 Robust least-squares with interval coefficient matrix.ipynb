{
 "cells": [
  {
   "cell_type": "code",
   "execution_count": 25,
   "metadata": {},
   "outputs": [],
   "source": [
    "import numpy as np\n",
    "import cvxpy as cp\n",
    "import matplotlib.pyplot as plt\n",
    "\n",
    "m = 4   \n",
    "n = 3\n",
    "\n",
    "A_bar = np.array([\n",
    "    [60, 45,  -8],\n",
    "    [90, 30, -30],\n",
    "    [0,  -8,  -4],\n",
    "    [30, 10, -10]\n",
    "])\n",
    "R = np.ones((4, 3)) * 0.05\n",
    "b = np.array([-6, -3, 18, -9])"
   ]
  },
  {
   "attachments": {},
   "cell_type": "markdown",
   "metadata": {},
   "source": [
    "### Optimization program"
   ]
  },
  {
   "cell_type": "code",
   "execution_count": 42,
   "metadata": {},
   "outputs": [
    {
     "name": "stdout",
     "output_type": "stream",
     "text": [
      "status: optimal\n"
     ]
    }
   ],
   "source": [
    "y = cp.Variable(m)\n",
    "x_robust = cp.Variable(n)\n",
    "t = cp.Variable(n)\n",
    "\n",
    "objective = cp.Minimize(cp.sum_squares(y))\n",
    "constraints = [\n",
    "    (A_bar @ x_robust) + (R @t) - b <= y,\n",
    "    (A_bar @ x_robust) - (R @t) - b >= -y,\n",
    "    x_robust <= t,\n",
    "    x_robust >= -t\n",
    "]\n",
    "\n",
    "prob = cp.Problem(objective, constraints)\n",
    "prob.solve()\n",
    "print(\"status:\", prob.status)"
   ]
  },
  {
   "attachments": {},
   "cell_type": "markdown",
   "metadata": {},
   "source": [
    "### Robust solution"
   ]
  },
  {
   "cell_type": "code",
   "execution_count": 55,
   "metadata": {},
   "outputs": [
    {
     "name": "stdout",
     "output_type": "stream",
     "text": [
      "x_robust: [-2.81054068e-01  1.02629901e-20 -7.58503369e-01]\n",
      "Robust nominal residual: 17.710584340536425\n",
      "Robust worst case residual: 17.793969010362535\n"
     ]
    }
   ],
   "source": [
    "print(\"x_robust:\", x_robust.value)\n",
    "print(\"Robust nominal residual:\", np.linalg.norm(A_bar @ x_robust.value - b, 2))\n",
    "print(\"Robust worst case residual:\", np.sqrt(prob.value))"
   ]
  },
  {
   "attachments": {},
   "cell_type": "markdown",
   "metadata": {},
   "source": [
    "### Least squares solution"
   ]
  },
  {
   "cell_type": "code",
   "execution_count": 56,
   "metadata": {},
   "outputs": [
    {
     "name": "stdout",
     "output_type": "stream",
     "text": [
      "x_robust: [ -53.16   51.6  -107.7 ]\n",
      "Least squares nominal residual: 7.589466384404182\n",
      "Least squares worst case residual: 26.70120064716264\n"
     ]
    }
   ],
   "source": [
    "x_ls = np.linalg.lstsq(A_bar, b, rcond=None)[0]\n",
    "print(\"x_robust:\", x_ls)\n",
    "print(\"Least squares nominal residual:\", np.linalg.norm(A_bar @ x_ls - b, 2))\n",
    "r = A_bar @ x_ls - b\n",
    "print(\"Least squares worst case residual:\", np.linalg.norm(np.abs(r) + R @ np.abs(x_ls)))\n",
    "### Refer to my notes to find an alterate way to compute the worst case residual\n"
   ]
  }
 ],
 "metadata": {
  "kernelspec": {
   "display_name": "Python 3",
   "language": "python",
   "name": "python3"
  },
  "language_info": {
   "codemirror_mode": {
    "name": "ipython",
    "version": 3
   },
   "file_extension": ".py",
   "mimetype": "text/x-python",
   "name": "python",
   "nbconvert_exporter": "python",
   "pygments_lexer": "ipython3",
   "version": "3.10.9"
  },
  "orig_nbformat": 4
 },
 "nbformat": 4,
 "nbformat_minor": 2
}
