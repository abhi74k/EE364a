{
 "cells": [
  {
   "cell_type": "code",
   "execution_count": 3,
   "metadata": {},
   "outputs": [],
   "source": [
    "import cvxpy as cp\n",
    "import numpy as np\n",
    "\n",
    "np.random.seed(0)\n",
    "n = 100   #number of ads\n",
    "m = 30    #number of contracts\n",
    "T = 60    #number of periods\n",
    "\n",
    "#number of impressions in each period\n",
    "I = 10*np.random.rand(T, 1); I = np.asmatrix(I)\n",
    "#revenue rate for each period and ad\n",
    "R = np.random.rand(n, T); R = np.asmatrix(R)\n",
    "#contract target number of impressions\n",
    "q = T/float(n)*50*np.random.rand(m, 1); q = np.asmatrix(q)\n",
    "#penalty rate for shortfall\n",
    "p = np.random.rand(m, 1); p = np.asmatrix(p)\n",
    "#one column per contract. 1's at the periods to be displayed\n",
    "Tcontr = np.matrix(np.random.rand(T, m)>.8, dtype = float)\n",
    "Acontr = np.zeros((n, m)); Acont = np.asmatrix(Acontr)\n",
    "for i in range(n):\n",
    "    contract=int(np.floor(m*np.random.rand(1)))\n",
    "    #one column per contract. 1's at the ads to be displayed\n",
    "    Acontr[i,contract]=1\n"
   ]
  },
  {
   "cell_type": "code",
   "execution_count": 15,
   "metadata": {},
   "outputs": [
    {
     "name": "stdout",
     "output_type": "stream",
     "text": [
      "status: optimal\n"
     ]
    }
   ],
   "source": [
    "N = cp.Variable((n, T), nonneg = True)\n",
    "s = cp.pos(q - cp.reshape(cp.diag(Acontr.T @ N @ Tcontr), (q.shape[0], 1)))\n",
    "penalty = p.T @ s\n",
    "revenue = cp.sum(cp.multiply(R, N))\n",
    "objective = cp.Maximize(revenue - penalty)\n",
    "constraints = [cp.sum(N, axis = 0) == cp.reshape(I,(T, ))]\n",
    "prob = cp.Problem(objective, constraints)\n",
    "prob.solve()\n",
    "print(\"status:\", prob.status)\n"
   ]
  },
  {
   "cell_type": "code",
   "execution_count": 19,
   "metadata": {},
   "outputs": [
    {
     "name": "stdout",
     "output_type": "stream",
     "text": [
      "optimal value 259.0008355674371\n",
      "revenue 280.94172210611595\n",
      "penalty [[21.94088654]]\n"
     ]
    }
   ],
   "source": [
    "print(\"optimal value\", prob.value)\n",
    "print(\"revenue\", revenue.value)\n",
    "print(\"penalty\", penalty.value)"
   ]
  }
 ],
 "metadata": {
  "kernelspec": {
   "display_name": "Python 3",
   "language": "python",
   "name": "python3"
  },
  "language_info": {
   "codemirror_mode": {
    "name": "ipython",
    "version": 3
   },
   "file_extension": ".py",
   "mimetype": "text/x-python",
   "name": "python",
   "nbconvert_exporter": "python",
   "pygments_lexer": "ipython3",
   "version": "3.10.9"
  },
  "orig_nbformat": 4
 },
 "nbformat": 4,
 "nbformat_minor": 2
}
